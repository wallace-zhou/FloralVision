{
 "cells": [
  {
   "cell_type": "code",
   "execution_count": 1,
   "metadata": {},
   "outputs": [],
   "source": [
    "NAMES = [\n",
    "    \"pink primrose\",\n",
    "    \"hard-leaved pocket orchid\",\n",
    "    \"canterbury bells\",\n",
    "    \"sweet pea\",\n",
    "    \"english marigold\",\n",
    "    \"tiger lily\",\n",
    "    \"moon orchid\",\n",
    "    \"bird of paradise\",\n",
    "    \"monkshood\",\n",
    "    \"globe thistle\",\n",
    "    \"snapdragon\",\n",
    "    \"colt's foot\",\n",
    "    \"king protea\",\n",
    "    \"spear thistle\",\n",
    "    \"yellow iris\",\n",
    "    \"globe-flower\",\n",
    "    \"purple coneflower\",\n",
    "    \"peruvian lily\",\n",
    "    \"balloon flower\",\n",
    "    \"giant white arum lily\",\n",
    "    \"fire lily\",\n",
    "    \"pincushion flower\",\n",
    "    \"fritillary\",\n",
    "    \"red ginger\",\n",
    "    \"grape hyacinth\",\n",
    "    \"corn poppy\",\n",
    "    \"prince of wales feathers\",\n",
    "    \"stemless gentian\",\n",
    "    \"artichoke\",\n",
    "    \"sweet william\",\n",
    "    \"carnation\",\n",
    "    \"garden phlox\",\n",
    "    \"love in the mist\",\n",
    "    \"mexican aster\",\n",
    "    \"alpine sea holly\",\n",
    "    \"ruby-lipped cattleya\",\n",
    "    \"cape flower\",\n",
    "    \"great masterwort\",\n",
    "    \"siam tulip\",\n",
    "    \"lenten rose\",\n",
    "    \"barbeton daisy\",\n",
    "    \"daffodil\",\n",
    "    \"sword lily\",\n",
    "    \"poinsettia\",\n",
    "    \"bolero deep blue\",\n",
    "    \"wallflower\",\n",
    "    \"marigold\",\n",
    "    \"buttercup\",\n",
    "    \"oxeye daisy\",\n",
    "    \"common dandelion\",\n",
    "    \"petunia\",\n",
    "    \"wild pansy\",\n",
    "    \"primula\",\n",
    "    \"sunflower\",\n",
    "    \"pelargonium\",\n",
    "    \"bishop of llandaff\",\n",
    "    \"gaura\",\n",
    "    \"geranium\",\n",
    "    \"orange dahlia\",\n",
    "    \"pink-yellow dahlia\",\n",
    "    \"cautleya spicata\",\n",
    "    \"japanese anemone\",\n",
    "    \"black-eyed susan\",\n",
    "    \"silverbush\",\n",
    "    \"californian poppy\",\n",
    "    \"osteospermum\",\n",
    "    \"spring crocus\",\n",
    "    \"bearded iris\",\n",
    "    \"windflower\",\n",
    "    \"tree poppy\",\n",
    "    \"gazania\",\n",
    "    \"azalea\",\n",
    "    \"water lily\",\n",
    "    \"rose\",\n",
    "    \"thorn apple\",\n",
    "    \"morning glory\",\n",
    "    \"passion flower\",\n",
    "    \"lotus\",\n",
    "    \"toad lily\",\n",
    "    \"anthurium\",\n",
    "    \"frangipani\",\n",
    "    \"clematis\",\n",
    "    \"hibiscus\",\n",
    "    \"columbine\",\n",
    "    \"desert-rose\",\n",
    "    \"tree mallow\",\n",
    "    \"magnolia\",\n",
    "    \"cyclamen\",\n",
    "    \"watercress\",\n",
    "    \"canna lily\",\n",
    "    \"hippeastrum\",\n",
    "    \"bee balm\",\n",
    "    \"ball moss\",\n",
    "    \"foxglove\",\n",
    "    \"bougainvillea\",\n",
    "    \"camellia\",\n",
    "    \"mallow\",\n",
    "    \"mexican petunia\",\n",
    "    \"bromelia\",\n",
    "    \"blanket flower\",\n",
    "    \"trumpet creeper\",\n",
    "    \"blackberry lily\",\n",
    "]"
   ]
  },
  {
   "cell_type": "code",
   "execution_count": 2,
   "metadata": {},
   "outputs": [],
   "source": [
    "import numpy as np\n",
    "np.save('label.npy', NAMES)"
   ]
  },
  {
   "cell_type": "code",
   "execution_count": 11,
   "metadata": {},
   "outputs": [
    {
     "name": "stdout",
     "output_type": "stream",
     "text": [
      "loading data\n",
      "finish loading\n"
     ]
    }
   ],
   "source": [
    "import os\n",
    "import torch\n",
    "from torchvision.utils import save_image\n",
    "from image import *\n",
    "def save_one_image_per_label(dataloader, output_dir):\n",
    "    # Initialize a dictionary to keep track of encountered labels\n",
    "    label_dict = {}\n",
    "\n",
    "    # Create output directory if it doesn't exist\n",
    "    if not os.path.exists(output_dir):\n",
    "        os.makedirs(output_dir)\n",
    "\n",
    "    # Iterate through the dataset\n",
    "    for data, labels in dataloader:\n",
    "        # Convert labels to numpy array if tensor\n",
    "        labels = labels.numpy() if torch.is_tensor(labels) else labels\n",
    "\n",
    "        # Iterate through the batch\n",
    "        for idx, label in enumerate(labels):\n",
    "            # Check if label has been encountered\n",
    "            if label not in label_dict:\n",
    "                # Save image with label as filename\n",
    "                image_path = os.path.join(output_dir, f\"{NAMES[label]}.jpg\")\n",
    "                save_image(data[idx], image_path)\n",
    "                label_dict[label] = True\n",
    "\n",
    "# Assuming you have a DataLoader named train_loader  \n",
    "tr_loader = get_loader(task = \"train\",batch_size = 32)\n",
    "one_image_per_label = save_one_image_per_label(tr_loader,'test')\n"
   ]
  },
  {
   "cell_type": "code",
   "execution_count": 13,
   "metadata": {},
   "outputs": [
    {
     "data": {
      "text/plain": [
       "''"
      ]
     },
     "execution_count": 13,
     "metadata": {},
     "output_type": "execute_result"
    }
   ],
   "source": [
    "from lightning.pytorch import Trainer\n",
    "from lightning.pytorch.callbacks import ModelCheckpoint\n",
    "checkpoint_callback = ModelCheckpoint(dirpath='lightning_logs/version_62/')\n",
    "checkpoint_callback.best_model_path"
   ]
  },
  {
   "cell_type": "code",
   "execution_count": null,
   "metadata": {},
   "outputs": [],
   "source": []
  }
 ],
 "metadata": {
  "kernelspec": {
   "display_name": "computervision",
   "language": "python",
   "name": "python3"
  },
  "language_info": {
   "codemirror_mode": {
    "name": "ipython",
    "version": 3
   },
   "file_extension": ".py",
   "mimetype": "text/x-python",
   "name": "python",
   "nbconvert_exporter": "python",
   "pygments_lexer": "ipython3",
   "version": "3.12.1"
  }
 },
 "nbformat": 4,
 "nbformat_minor": 2
}
